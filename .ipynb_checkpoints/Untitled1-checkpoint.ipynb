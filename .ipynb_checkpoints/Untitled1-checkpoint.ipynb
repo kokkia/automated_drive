{
 "cells": [
  {
   "cell_type": "code",
   "execution_count": 2,
   "metadata": {},
   "outputs": [
    {
     "name": "stdout",
     "output_type": "stream",
     "text": [
      "0.6666666666666667\n",
      "0.6666666666666667 0.33333333333333337\n",
      "1.3333333333333337 0.0\n"
     ]
    }
   ],
   "source": [
    "import numpy as np\n",
    "import cvxpy as cp  # pip install cvxpy\n",
    "\n",
    "# 変数\n",
    "x_1 = cp.Variable()\n",
    "x_2 = cp.Variable()\n",
    "\n",
    "# 最小化したい関数 (目的関数)\n",
    "objective = cp.Minimize(\n",
    "    cp.power(x_1, 2) + 2 * cp.power(x_2, 2)\n",
    ")\n",
    "\n",
    "# 制約条件 (不等式制約)\n",
    "constraints = [\n",
    "    x_2 >= - x_1 + 1,\n",
    "    x_2 >= (x_1 - 1) / 2.0\n",
    "]\n",
    "\n",
    "# 問題を定義\n",
    "problem = cp.Problem(objective, constraints)\n",
    "\n",
    "# 最適化 (戻り値は最適化後に得られた値=最小値)\n",
    "result = problem.solve()\n",
    "print(result)  # 0.6666666666666667\n",
    "\n",
    "# 最小値の時のx_1とx_2の値\n",
    "print(x_1.value, x_2.value)  # 0.6666666666666667 0.33333333333333337\n",
    "\n",
    "# 最小値の時のラグランジュ定数\n",
    "print(constraints[0].dual_value, constraints[1].dual_value)  # 1.3333333333333337 0.0"
   ]
  },
  {
   "cell_type": "code",
   "execution_count": null,
   "metadata": {},
   "outputs": [],
   "source": []
  }
 ],
 "metadata": {
  "kernelspec": {
   "display_name": "Python 3.7.4 64-bit ('base': conda)",
   "language": "python",
   "name": "python37464bitbaseconda5e623a37214d4771b9ad7f37e3a0bc43"
  },
  "language_info": {
   "codemirror_mode": {
    "name": "ipython",
    "version": 3
   },
   "file_extension": ".py",
   "mimetype": "text/x-python",
   "name": "python",
   "nbconvert_exporter": "python",
   "pygments_lexer": "ipython3",
   "version": "3.7.4"
  }
 },
 "nbformat": 4,
 "nbformat_minor": 2
}
